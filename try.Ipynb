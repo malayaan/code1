{
 "cells": [
  {
   "cell_type": "code",
   "execution_count": 5,
   "metadata": {},
   "outputs": [
    {
     "name": "stdout",
     "output_type": "stream",
     "text": [
      "X_train shape: (105, 2)\n",
      "y_train shape: (105,)\n",
      "X_test shape: (45, 2)\n",
      "y_test shape: (45,)\n"
     ]
    }
   ],
   "source": [
    "import numpy as np\n",
    "from sklearn import datasets\n",
    "from sklearn.model_selection import train_test_split\n",
    "\n",
    "def prepare_data():\n",
    "    # Charger le dataset Iris\n",
    "    iris = datasets.load_iris()\n",
    "    X = iris.data[:, :2]  # Utiliser uniquement les deux premières caractéristiques pour simplification\n",
    "    y = iris.target\n",
    "\n",
    "    # Binariser le dataset: 1 si la classe n'est pas 0, sinon 0\n",
    "    y = (y != 0).astype(int)\n",
    "\n",
    "    # Séparer les données en ensembles de formation et de test\n",
    "    X_train, X_test, y_train, y_test = train_test_split(X, y, test_size=0.3, random_state=42)\n",
    "\n",
    "    # Retourner les ensembles\n",
    "    return X_train, X_test, y_train, y_test\n",
    "\n",
    "# Exécuter la fonction et afficher les résultats\n",
    "X_train, X_test, y_train, y_test = prepare_data()\n",
    "print(\"X_train shape:\", X_train.shape)\n",
    "print(\"y_train shape:\", y_train.shape)\n",
    "print(\"X_test shape:\", X_test.shape)\n",
    "print(\"y_test shape:\", y_test.shape)\n"
   ]
  },
  {
   "cell_type": "code",
   "execution_count": 6,
   "metadata": {},
   "outputs": [
    {
     "data": {
      "text/html": [
       "\n",
       "        <iframe\n",
       "            width=\"100%\"\n",
       "            height=\"650\"\n",
       "            src=\"http://127.0.0.1:8050/\"\n",
       "            frameborder=\"0\"\n",
       "            allowfullscreen\n",
       "            \n",
       "        ></iframe>\n",
       "        "
      ],
      "text/plain": [
       "<IPython.lib.display.IFrame at 0x29129b7b510>"
      ]
     },
     "metadata": {},
     "output_type": "display_data"
    },
    {
     "name": "stderr",
     "output_type": "stream",
     "text": [
      "c:\\Users\\decroux paul\\AppData\\Local\\Programs\\Python\\Python311\\Lib\\site-packages\\sklearn\\ensemble\\_iforest.py:307: UserWarning:\n",
      "\n",
      "max_samples (130) is greater than the total number of samples (100). max_samples will be set to n_samples for estimation.\n",
      "\n",
      "Exception in thread Thread-5 (run_optimization):\n",
      "Traceback (most recent call last):\n",
      "  File \"c:\\Users\\decroux paul\\AppData\\Local\\Programs\\Python\\Python311\\Lib\\threading.py\", line 1038, in _bootstrap_inner\n",
      "    self.run()\n",
      "  File \"c:\\Users\\decroux paul\\AppData\\Local\\Programs\\Python\\Python311\\Lib\\site-packages\\ipykernel\\ipkernel.py\", line 766, in run_closure\n",
      "    _threading_Thread_run(self)\n",
      "  File \"c:\\Users\\decroux paul\\AppData\\Local\\Programs\\Python\\Python311\\Lib\\threading.py\", line 975, in run\n",
      "    self._target(*self._args, **self._kwargs)\n",
      "  File \"C:\\Users\\decroux paul\\AppData\\Local\\Temp\\ipykernel_25128\\1792223504.py\", line 73, in run_optimization\n",
      "TypeError: 'BayesSearchCV' object is not iterable\n"
     ]
    }
   ],
   "source": [
    "import dash\n",
    "import numpy as np\n",
    "import plotly.graph_objs as go\n",
    "from dash import dcc, html\n",
    "from dash.dependencies import Input, Output\n",
    "from sklearn.ensemble import IsolationForest\n",
    "from sklearn.metrics import make_scorer\n",
    "from sklearn.model_selection import KFold\n",
    "from skopt import BayesSearchCV\n",
    "from skopt.space import Integer, Real, Categorical\n",
    "\n",
    "# Données simulées pour l'exemple, remplacez par vos vraies données\n",
    "X_train = np.random.rand(100, 4)\n",
    "y_train = (np.random.rand(100) > 0.5).astype(int)\n",
    "\n",
    "# Définir un scorer personnalisé\n",
    "def custom_scorer(y_true, y_pred):\n",
    "    return np.mean(y_true == y_pred)\n",
    "\n",
    "scorer = make_scorer(custom_scorer, greater_is_better=True)\n",
    "\n",
    "# Initialiser l'application Dash\n",
    "app = dash.Dash(__name__)\n",
    "\n",
    "# Mémoire partagée pour stocker les résultats d'optimisation\n",
    "results = {\n",
    "    'time': [],\n",
    "    'score': []\n",
    "}\n",
    "\n",
    "# Définir la mise en page de l'application\n",
    "app.layout = html.Div([\n",
    "    dcc.Graph(id='live-update-graph'),\n",
    "    dcc.Interval(id='interval-component', interval=1*1000, n_intervals=0)\n",
    "])\n",
    "\n",
    "# Callback pour la mise à jour en temps réel\n",
    "@app.callback(Output('live-update-graph', 'figure'),\n",
    "              Input('interval-component', 'n_intervals'))\n",
    "def update_graph_live(n_intervals):\n",
    "    trace = go.Scatter(\n",
    "        x=results['time'],\n",
    "        y=results['score'],\n",
    "        name='Optimization Performance',\n",
    "        mode='lines+markers'\n",
    "    )\n",
    "\n",
    "    return {\n",
    "        'data': [trace],\n",
    "        'layout': go.Layout(title='Real-time Performance Over Time')\n",
    "    }\n",
    "\n",
    "# Fonction pour lancer l'optimisation Bayésienne\n",
    "def run_optimization():\n",
    "    kf = KFold(n_splits=3, shuffle=True, random_state=42)\n",
    "    search_space = {\n",
    "        'n_estimators': Integer(100, 300),\n",
    "        'max_samples': Integer(50, 200),\n",
    "        'contamination': Real(0.01, 0.05),\n",
    "        'max_features': Real(0.5, 1.0),\n",
    "        'bootstrap': Categorical([True, False])\n",
    "    }\n",
    "\n",
    "    opt = BayesSearchCV(\n",
    "        estimator=IsolationForest(random_state=42),\n",
    "        search_spaces=search_space,\n",
    "        n_iter=10,\n",
    "        scoring=scorer,\n",
    "        cv=kf,\n",
    "        n_jobs=-1\n",
    "    )\n",
    "\n",
    "    for i, result in enumerate(opt.fit(X_train, y_train)):\n",
    "        results['time'].append(i)\n",
    "        results['score'].append(-result.fun)\n",
    "\n",
    "# Exécuter l'optimisation dans un thread séparé pour ne pas bloquer Dash\n",
    "from threading import Thread\n",
    "thread = Thread(target=run_optimization)\n",
    "thread.start()\n",
    "\n",
    "# Exécuter l'application Dash\n",
    "if __name__ == '__main__':\n",
    "    app.run_server(debug=True)\n"
   ]
  }
 ],
 "metadata": {
  "kernelspec": {
   "display_name": "Python 3",
   "language": "python",
   "name": "python3"
  },
  "language_info": {
   "codemirror_mode": {
    "name": "ipython",
    "version": 3
   },
   "file_extension": ".py",
   "mimetype": "text/x-python",
   "name": "python",
   "nbconvert_exporter": "python",
   "pygments_lexer": "ipython3",
   "version": "3.11.3"
  }
 },
 "nbformat": 4,
 "nbformat_minor": 2
}

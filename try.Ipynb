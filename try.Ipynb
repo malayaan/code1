{
 "cells": [
  {
   "cell_type": "code",
   "execution_count": 5,
   "metadata": {},
   "outputs": [
    {
     "name": "stdout",
     "output_type": "stream",
     "text": [
      "  Underlying Name   Portfolio ProductTypeGroup\n",
      "0      NOKOYFHMLM  Portfolio2            Type1\n",
      "1      SLNNJERWLK  Portfolio2            Type3\n",
      "2      RREGNUBVVX  Portfolio1            Type4\n",
      "3      JXSLSJZJPZ  Portfolio1            Type3\n",
      "4      QIAJRDKKQG  Portfolio2            Type3\n",
      "Nombre de mots uniques dans 'Underlying Name' : 3657\n"
     ]
    }
   ],
   "source": [
    "import pandas as pd\n",
    "import numpy as np\n",
    "import random\n",
    "import string\n",
    "\n",
    "# Fonction pour générer un mot aléatoire\n",
    "def generate_random_word(length=10):\n",
    "    letters = string.ascii_uppercase\n",
    "    return ''.join(random.choice(letters) for i in range(length))\n",
    "\n",
    "# Générer environ 4000 mots différents pour 'Underlying Name'\n",
    "unique_words = [generate_random_word() for _ in range(4000)]\n",
    "\n",
    "# Assurer que la taille du DataFrame est plus grande en répétant les mots\n",
    "underlying_names = np.random.choice(unique_words, size=10000, replace=True)\n",
    "\n",
    "# Générer des valeurs aléatoires pour 'Portfolio' et 'ProductTypeGroup'\n",
    "portfolios = np.random.choice(['Portfolio1', 'Portfolio2', 'Portfolio3', 'Portfolio4'], size=10000, replace=True)\n",
    "product_types = np.random.choice(['Type1', 'Type2', 'Type3', 'Type4'], size=10000, replace=True)\n",
    "\n",
    "# Créer le DataFrame\n",
    "df = pd.DataFrame({\n",
    "    'Underlying Name': underlying_names,\n",
    "    'Portfolio': portfolios,\n",
    "    'ProductTypeGroup': product_types\n",
    "})\n",
    "\n",
    "# Afficher un échantillon du DataFrame\n",
    "print(df.head())\n",
    "print(f\"Nombre de mots uniques dans 'Underlying Name' : {df['Underlying Name'].nunique()}\")\n"
   ]
  },
  {
   "cell_type": "code",
   "execution_count": 6,
   "metadata": {},
   "outputs": [],
   "source": [
    "import gensim\n",
    "from gensim.models import Word2Vec\n",
    "\n",
    "# Préparer les données pour Word2Vec\n",
    "# Chaque \"phrase\" est une combinaison de 'Underlying Name', 'Portfolio', et 'ProductTypeGroup'\n",
    "sentences = df.apply(lambda row: [row['Underlying Name'], row['Portfolio'], row['ProductTypeGroup']], axis=1).tolist()\n",
    "\n",
    "# Entraîner le modèle Word2Vec\n",
    "model = Word2Vec(sentences, vector_size=3, window=5, min_count=1, workers=4)\n",
    "\n"
   ]
  },
  {
   "cell_type": "code",
   "execution_count": 8,
   "metadata": {},
   "outputs": [
    {
     "name": "stdout",
     "output_type": "stream",
     "text": [
      "Embedding vector for a specific Underlying Name: [-0.00799844 -0.14878407 -0.26508382]\n"
     ]
    }
   ],
   "source": [
    "# Récupérer le vecteur pour un exemple d'Underlying Name\n",
    "underlying_name_vector = model.wv['NOKOYFHMLM']  # Remplacer par un nom réel du DataFrame\n",
    "print(\"Embedding vector for a specific Underlying Name:\", underlying_name_vector)\n",
    "\n",
    "# Utiliser les embeddings pour la visualisation ou plus de traitement ML\n"
   ]
  }
 ],
 "metadata": {
  "kernelspec": {
   "display_name": "Python 3",
   "language": "python",
   "name": "python3"
  },
  "language_info": {
   "codemirror_mode": {
    "name": "ipython",
    "version": 3
   },
   "file_extension": ".py",
   "mimetype": "text/x-python",
   "name": "python",
   "nbconvert_exporter": "python",
   "pygments_lexer": "ipython3",
   "version": "3.11.3"
  }
 },
 "nbformat": 4,
 "nbformat_minor": 2
}

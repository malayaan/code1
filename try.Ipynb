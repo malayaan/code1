{
 "cells": [
  {
   "cell_type": "code",
   "execution_count": 1,
   "metadata": {},
   "outputs": [
    {
     "name": "stdout",
     "output_type": "stream",
     "text": [
      "  key1  key2 value1 value2\n",
      "0    A     1    foo    one\n",
      "1    B     2    bar    two\n",
      "2    C     3    baz  three\n",
      "3    D     4    qux    NaN\n"
     ]
    }
   ],
   "source": [
    "import pandas as pd\n",
    "\n",
    "# Création du DataFrame\n",
    "data = {\n",
    "    'portfeuille': ['aze', 'aze', 'aze', 'aze'],\n",
    "    'date': ['11/02/2023', '11/02/2023', '01/02/2023', '01/02/2023'],\n",
    "    'effet_name_level1': ['aezr', 'sdf', 'aezr', 'sdf'],\n",
    "    'effet_name_level2': ['sdv', 'dsg', 'sdv', 'dsg'],\n",
    "    'effet_name_level3': ['gdfv', 'vsdvs', 'gdfv', 'vsdvs'],\n",
    "    'effet_name_level4': ['erthtb', 'fshy', 'erthtb', 'fshy'],\n",
    "    'indicateur1': [1, 2, 1, 56],\n",
    "    'indicateur2': [2, 58, 455, 58],\n",
    "    'indicateur3': [8, 55, 8, 88],\n",
    "    'indicateur4': [5885, 7, 86, 7]\n",
    "}\n",
    "\n",
    "df = pd.DataFrame(data)\n",
    "\n",
    "# Convertir les dates\n",
    "df['date'] = pd.to_datetime(df['date'], format='%d/%m/%Y')\n",
    "\n",
    "# Pivoter le DataFrame\n",
    "df_pivot = df.pivot_table(index=['portfeuille', 'date', 'effet_name_level2'], \n",
    "                          values=['indicateur1', 'indicateur2', 'indicateur3', 'indicateur4'], \n",
    "                          aggfunc='sum').unstack('effet_name_level2', fill_value=0)\n",
    "\n",
    "# Réinitialiser l'index pour aplatir le DataFrame\n",
    "df_pivot.columns = ['_'.join(col).strip() for col in df_pivot.columns.values]\n",
    "df_pivot.reset_index(inplace=True)\n",
    "\n",
    "print(df_pivot)\n"
   ]
  }
 ],
 "metadata": {
  "kernelspec": {
   "display_name": "Python 3",
   "language": "python",
   "name": "python3"
  },
  "language_info": {
   "codemirror_mode": {
    "name": "ipython",
    "version": 3
   },
   "file_extension": ".py",
   "mimetype": "text/x-python",
   "name": "python",
   "nbconvert_exporter": "python",
   "pygments_lexer": "ipython3",
   "version": "3.11.3"
  }
 },
 "nbformat": 4,
 "nbformat_minor": 2
}

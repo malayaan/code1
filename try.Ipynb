{
 "cells": [
  {
   "cell_type": "code",
   "execution_count": 1,
   "metadata": {},
   "outputs": [
    {
     "name": "stdout",
     "output_type": "stream",
     "text": [
      "  key1  key2 value1 value2\n",
      "0    A     1    foo    one\n",
      "1    B     2    bar    two\n",
      "2    C     3    baz  three\n",
      "3    D     4    qux    NaN\n"
     ]
    }
   ],
   "source": [
    "Je réfléchis à utiliser les données versionnées des GOP plutôt que des PTF pour notre système de flagging quotidien, étant donné la qualité et la structure des données que nous avons à ce niveau. Tu penses que cela pourrait être plus pertinent pour ton analyse quotidienne ?"
   ]
  }
 ],
 "metadata": {
  "kernelspec": {
   "display_name": "Python 3",
   "language": "python",
   "name": "python3"
  },
  "language_info": {
   "codemirror_mode": {
    "name": "ipython",
    "version": 3
   },
   "file_extension": ".py",
   "mimetype": "text/x-python",
   "name": "python",
   "nbconvert_exporter": "python",
   "pygments_lexer": "ipython3",
   "version": "3.11.3"
  }
 },
 "nbformat": 4,
 "nbformat_minor": 2
}

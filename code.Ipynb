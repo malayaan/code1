{
 "cells": [
  {
   "cell_type": "markdown",
   "metadata": {},
   "source": [
    "1. Import and Data Preparation"
   ]
  },
  {
   "cell_type": "code",
   "execution_count": null,
   "metadata": {},
   "outputs": [
    {
     "ename": "",
     "evalue": "",
     "output_type": "error",
     "traceback": [
      "\u001b[1;31mÉchec du démarrage du Kernel. \n",
      "\u001b[1;31mTraceback (most recent call last):\n",
      "\u001b[1;31m  File \"c:\\Users\\decroux paul\\anaconda3\\lib\\runpy.py\", line 197, in _run_module_as_main\n",
      "\u001b[1;31m    return _run_code(code, main_globals, None,\n",
      "\u001b[1;31m  File \"c:\\Users\\decroux paul\\anaconda3\\lib\\runpy.py\", line 87, in _run_code\n",
      "\u001b[1;31m    exec(code, run_globals)\n",
      "\u001b[1;31m  File \"c:\\Users\\decroux paul\\anaconda3\\lib\\site-packages\\ipykernel_launcher.py\", line 15, in <module>\n",
      "\u001b[1;31m    from ipykernel import kernelapp as app\n",
      "\u001b[1;31m  File \"c:\\Users\\decroux paul\\anaconda3\\lib\\site-packages\\ipykernel\\kernelapp.py\", line 51, in <module>\n",
      "\u001b[1;31m    from .ipkernel import IPythonKernel\n",
      "\u001b[1;31m  File \"c:\\Users\\decroux paul\\anaconda3\\lib\\site-packages\\ipykernel\\ipkernel.py\", line 19, in <module>\n",
      "\u001b[1;31m    from .debugger import Debugger, _is_debugpy_available\n",
      "\u001b[1;31m  File \"c:\\Users\\decroux paul\\anaconda3\\lib\\site-packages\\ipykernel\\debugger.py\", line 22, in <module>\n",
      "\u001b[1;31m    from debugpy.server import api  # noqa\n",
      "\u001b[1;31m  File \"c:\\Users\\decroux paul\\anaconda3\\lib\\site-packages\\debugpy\\server\\__init__.py\", line 9, in <module>\n",
      "\u001b[1;31m    import debugpy._vendored.force_pydevd  # noqa\n",
      "\u001b[1;31m  File \"c:\\Users\\decroux paul\\anaconda3\\lib\\site-packages\\debugpy\\_vendored\\force_pydevd.py\", line 37, in <module>\n",
      "\u001b[1;31m    pydevd_constants = import_module('_pydevd_bundle.pydevd_constants')\n",
      "\u001b[1;31m  File \"c:\\Users\\decroux paul\\anaconda3\\lib\\importlib\\__init__.py\", line 127, in import_module\n",
      "\u001b[1;31m    return _bootstrap._gcd_import(name[level:], package, level)\n",
      "\u001b[1;31m  File \"c:\\Users\\decroux paul\\anaconda3\\lib\\site-packages\\debugpy\\_vendored\\pydevd\\_pydevd_bundle\\pydevd_constants.py\", line 365, in <module>\n",
      "\u001b[1;31m    from _pydev_imps._pydev_saved_modules import thread, threading\n",
      "\u001b[1;31m  File \"c:\\Users\\decroux paul\\anaconda3\\lib\\site-packages\\debugpy\\_vendored\\pydevd\\_pydev_imps\\_pydev_saved_modules.py\", line 93, in <module>\n",
      "\u001b[1;31m    import code as _code;    verify_shadowed.check(_code, ['compile_command', 'InteractiveInterpreter'])\n",
      "\u001b[1;31m  File \"c:\\Users\\decroux paul\\anaconda3\\lib\\site-packages\\debugpy\\_vendored\\pydevd\\_pydev_imps\\_pydev_saved_modules.py\", line 77, in check\n",
      "\u001b[1;31m    raise DebuggerInitializationError(msg)\n",
      "\u001b[1;31m_pydev_imps._pydev_saved_modules.DebuggerInitializationError: It was not possible to initialize the debugger due to a module name conflict.\n",
      "\u001b[1;31m\n",
      "\u001b[1;31mi.e.: the module \"code\" could not be imported because it is shadowed by:\n",
      "\u001b[1;31mc:\\Users\\decroux paul\\Documents\\info\\code\\code.py\n",
      "\u001b[1;31mPlease rename this file/folder so that the original module from the standard library can be imported. \n",
      "\u001b[1;31mPour plus d’informations, consultez Jupyter <a href='command:jupyter.viewOutput'>log</a>."
     ]
    }
   ],
   "source": [
    "import pandas as pd\n",
    "import re\n",
    "\n",
    "# Example DataFrames for deals and incidents\n",
    "deals_data = {\n",
    "    'deal_id': [\"ELA-1268\", \"ALO-2289\", \"listfzhifdjnghnzri@@cnc@TD_XKDI\", \"ELA-8526\", \"edhbnskfbhrjd#20256@@FJNK\"],\n",
    "    'portfolio_id': ['AZE', 'AZE', 'BJU', 'BJU', 'CII'],\n",
    "    'feature1': [10, 20, 10, 20, 30],\n",
    "    'feature2': ['XEK', 'YCK', 'XEK', 'YCK', 'ZOP']\n",
    "}\n",
    "deals_df = pd.DataFrame(deals_data)\n",
    "\n",
    "incidents_data = {\n",
    "    'incident_id': [101, 102, 103],\n",
    "    'group_or_portfolio': ['A', 'A', 'A'],\n",
    "    'comment': [\n",
    "        'Issue with deal ELA-1268 in portfolio AZE',\n",
    "        'Issue on YCK: portfolio BJU is affected',\n",
    "        'Entire CII has an incident on 12 MAR 2023'\n",
    "    ]\n",
    "}\n",
    "incidents_df = pd.DataFrame(incidents_data)\n"
   ]
  },
  {
   "cell_type": "markdown",
   "metadata": {},
   "source": [
    "2. Comment Preprocessing"
   ]
  },
  {
   "cell_type": "code",
   "execution_count": null,
   "metadata": {},
   "outputs": [
    {
     "ename": "",
     "evalue": "",
     "output_type": "error",
     "traceback": [
      "\u001b[1;31mÉchec du démarrage du Kernel. \n",
      "\u001b[1;31mTraceback (most recent call last):\n",
      "\u001b[1;31m  File \"c:\\Users\\decroux paul\\anaconda3\\lib\\runpy.py\", line 197, in _run_module_as_main\n",
      "\u001b[1;31m    return _run_code(code, main_globals, None,\n",
      "\u001b[1;31m  File \"c:\\Users\\decroux paul\\anaconda3\\lib\\runpy.py\", line 87, in _run_code\n",
      "\u001b[1;31m    exec(code, run_globals)\n",
      "\u001b[1;31m  File \"c:\\Users\\decroux paul\\anaconda3\\lib\\site-packages\\ipykernel_launcher.py\", line 15, in <module>\n",
      "\u001b[1;31m    from ipykernel import kernelapp as app\n",
      "\u001b[1;31m  File \"c:\\Users\\decroux paul\\anaconda3\\lib\\site-packages\\ipykernel\\kernelapp.py\", line 51, in <module>\n",
      "\u001b[1;31m    from .ipkernel import IPythonKernel\n",
      "\u001b[1;31m  File \"c:\\Users\\decroux paul\\anaconda3\\lib\\site-packages\\ipykernel\\ipkernel.py\", line 19, in <module>\n",
      "\u001b[1;31m    from .debugger import Debugger, _is_debugpy_available\n",
      "\u001b[1;31m  File \"c:\\Users\\decroux paul\\anaconda3\\lib\\site-packages\\ipykernel\\debugger.py\", line 22, in <module>\n",
      "\u001b[1;31m    from debugpy.server import api  # noqa\n",
      "\u001b[1;31m  File \"c:\\Users\\decroux paul\\anaconda3\\lib\\site-packages\\debugpy\\server\\__init__.py\", line 9, in <module>\n",
      "\u001b[1;31m    import debugpy._vendored.force_pydevd  # noqa\n",
      "\u001b[1;31m  File \"c:\\Users\\decroux paul\\anaconda3\\lib\\site-packages\\debugpy\\_vendored\\force_pydevd.py\", line 37, in <module>\n",
      "\u001b[1;31m    pydevd_constants = import_module('_pydevd_bundle.pydevd_constants')\n",
      "\u001b[1;31m  File \"c:\\Users\\decroux paul\\anaconda3\\lib\\importlib\\__init__.py\", line 127, in import_module\n",
      "\u001b[1;31m    return _bootstrap._gcd_import(name[level:], package, level)\n",
      "\u001b[1;31m  File \"c:\\Users\\decroux paul\\anaconda3\\lib\\site-packages\\debugpy\\_vendored\\pydevd\\_pydevd_bundle\\pydevd_constants.py\", line 365, in <module>\n",
      "\u001b[1;31m    from _pydev_imps._pydev_saved_modules import thread, threading\n",
      "\u001b[1;31m  File \"c:\\Users\\decroux paul\\anaconda3\\lib\\site-packages\\debugpy\\_vendored\\pydevd\\_pydev_imps\\_pydev_saved_modules.py\", line 93, in <module>\n",
      "\u001b[1;31m    import code as _code;    verify_shadowed.check(_code, ['compile_command', 'InteractiveInterpreter'])\n",
      "\u001b[1;31m  File \"c:\\Users\\decroux paul\\anaconda3\\lib\\site-packages\\debugpy\\_vendored\\pydevd\\_pydev_imps\\_pydev_saved_modules.py\", line 77, in check\n",
      "\u001b[1;31m    raise DebuggerInitializationError(msg)\n",
      "\u001b[1;31m_pydev_imps._pydev_saved_modules.DebuggerInitializationError: It was not possible to initialize the debugger due to a module name conflict.\n",
      "\u001b[1;31m\n",
      "\u001b[1;31mi.e.: the module \"code\" could not be imported because it is shadowed by:\n",
      "\u001b[1;31mc:\\Users\\decroux paul\\Documents\\info\\code\\code.py\n",
      "\u001b[1;31mPlease rename this file/folder so that the original module from the standard library can be imported. \n",
      "\u001b[1;31mPour plus d’informations, consultez Jupyter <a href='command:jupyter.viewOutput'>log</a>."
     ]
    }
   ],
   "source": [
    "import nltk\n",
    "from nltk.corpus import stopwords\n",
    "from nltk.tokenize import word_tokenize\n",
    "\n",
    "# Download necessary nltk resources\n",
    "nltk.download('punkt')\n",
    "nltk.download('stopwords')\n",
    "\n",
    "def preprocess_comment(comment):\n",
    "    # Tokenization without converting everything to lowercase\n",
    "    tokens = word_tokenize(comment)\n",
    "    # Remove punctuation and short tokens\n",
    "    tokens = [word for word in tokens if word.isalnum() and len(word) > 1]\n",
    "    # Remove stopwords except specified ones\n",
    "    custom_stopwords = set(stopwords.words('english')) - {'all', 'entire'}\n",
    "    tokens = [word for word in tokens if word.lower() not in custom_stopwords]\n",
    "    return tokens\n",
    "\n",
    "incidents_df['processed_comment'] = incidents_df['comment'].apply(preprocess_comment)\n",
    "print(incidents_df['processed_comment'])\n"
   ]
  },
  {
   "cell_type": "markdown",
   "metadata": {},
   "source": [
    "3. Information Extraction from Comments\n",
    "Extract relevant information based on identified tokens."
   ]
  },
  {
   "cell_type": "code",
   "execution_count": null,
   "metadata": {},
   "outputs": [
    {
     "ename": "",
     "evalue": "",
     "output_type": "error",
     "traceback": [
      "\u001b[1;31mÉchec du démarrage du Kernel. \n",
      "\u001b[1;31mTraceback (most recent call last):\n",
      "\u001b[1;31m  File \"c:\\Users\\decroux paul\\anaconda3\\lib\\runpy.py\", line 197, in _run_module_as_main\n",
      "\u001b[1;31m    return _run_code(code, main_globals, None,\n",
      "\u001b[1;31m  File \"c:\\Users\\decroux paul\\anaconda3\\lib\\runpy.py\", line 87, in _run_code\n",
      "\u001b[1;31m    exec(code, run_globals)\n",
      "\u001b[1;31m  File \"c:\\Users\\decroux paul\\anaconda3\\lib\\site-packages\\ipykernel_launcher.py\", line 15, in <module>\n",
      "\u001b[1;31m    from ipykernel import kernelapp as app\n",
      "\u001b[1;31m  File \"c:\\Users\\decroux paul\\anaconda3\\lib\\site-packages\\ipykernel\\kernelapp.py\", line 51, in <module>\n",
      "\u001b[1;31m    from .ipkernel import IPythonKernel\n",
      "\u001b[1;31m  File \"c:\\Users\\decroux paul\\anaconda3\\lib\\site-packages\\ipykernel\\ipkernel.py\", line 19, in <module>\n",
      "\u001b[1;31m    from .debugger import Debugger, _is_debugpy_available\n",
      "\u001b[1;31m  File \"c:\\Users\\decroux paul\\anaconda3\\lib\\site-packages\\ipykernel\\debugger.py\", line 22, in <module>\n",
      "\u001b[1;31m    from debugpy.server import api  # noqa\n",
      "\u001b[1;31m  File \"c:\\Users\\decroux paul\\anaconda3\\lib\\site-packages\\debugpy\\server\\__init__.py\", line 9, in <module>\n",
      "\u001b[1;31m    import debugpy._vendored.force_pydevd  # noqa\n",
      "\u001b[1;31m  File \"c:\\Users\\decroux paul\\anaconda3\\lib\\site-packages\\debugpy\\_vendored\\force_pydevd.py\", line 37, in <module>\n",
      "\u001b[1;31m    pydevd_constants = import_module('_pydevd_bundle.pydevd_constants')\n",
      "\u001b[1;31m  File \"c:\\Users\\decroux paul\\anaconda3\\lib\\importlib\\__init__.py\", line 127, in import_module\n",
      "\u001b[1;31m    return _bootstrap._gcd_import(name[level:], package, level)\n",
      "\u001b[1;31m  File \"c:\\Users\\decroux paul\\anaconda3\\lib\\site-packages\\debugpy\\_vendored\\pydevd\\_pydevd_bundle\\pydevd_constants.py\", line 365, in <module>\n",
      "\u001b[1;31m    from _pydev_imps._pydev_saved_modules import thread, threading\n",
      "\u001b[1;31m  File \"c:\\Users\\decroux paul\\anaconda3\\lib\\site-packages\\debugpy\\_vendored\\pydevd\\_pydev_imps\\_pydev_saved_modules.py\", line 93, in <module>\n",
      "\u001b[1;31m    import code as _code;    verify_shadowed.check(_code, ['compile_command', 'InteractiveInterpreter'])\n",
      "\u001b[1;31m  File \"c:\\Users\\decroux paul\\anaconda3\\lib\\site-packages\\debugpy\\_vendored\\pydevd\\_pydev_imps\\_pydev_saved_modules.py\", line 77, in check\n",
      "\u001b[1;31m    raise DebuggerInitializationError(msg)\n",
      "\u001b[1;31m_pydev_imps._pydev_saved_modules.DebuggerInitializationError: It was not possible to initialize the debugger due to a module name conflict.\n",
      "\u001b[1;31m\n",
      "\u001b[1;31mi.e.: the module \"code\" could not be imported because it is shadowed by:\n",
      "\u001b[1;31mc:\\Users\\decroux paul\\Documents\\info\\code\\code.py\n",
      "\u001b[1;31mPlease rename this file/folder so that the original module from the standard library can be imported. \n",
      "\u001b[1;31mPour plus d’informations, consultez Jupyter <a href='command:jupyter.viewOutput'>log</a>."
     ]
    }
   ],
   "source": [
    "def extract_info_from_comment(tokens, deals_df):\n",
    "    deal_ids = set()\n",
    "    portfolio_ids = set()\n",
    "    features = {}\n",
    "    \n",
    "    for token in tokens:\n",
    "        # Check if the token is a deal, portfolio, or group ID\n",
    "        if token in deals_df['deal_id'].values:\n",
    "            deal_ids.add(token)\n",
    "        elif token in deals_df['portfolio_id'].values:\n",
    "            portfolio_ids.add(token)\n",
    "        elif token.isupper() and len(token) > 3:\n",
    "            if token in deals_df['portfolio_id'].values:\n",
    "                portfolio_ids.add(token)\n",
    "        elif '=' in token:\n",
    "            feature, value = token.split('=')\n",
    "            if feature in deals_df.columns:\n",
    "                features[feature] = value\n",
    "    \n",
    "    # Identify impacted deals\n",
    "    affected_deals = set()\n",
    "    \n",
    "    if deal_ids:\n",
    "        affected_deals.update(deals_df[deals_df['deal_id'].isin(deal_ids)].index)\n",
    "    if portfolio_ids:\n",
    "        affected_deals.update(deals_df[deals_df['portfolio_id'].isin(portfolio_ids)].index)\n",
    "    for feature, value in features.items():\n",
    "        if value.isdigit():\n",
    "            value = int(value)\n",
    "        affected_deals.update(deals_df[deals_df[feature] == value].index)\n",
    "    \n",
    "    return list(affected_deals)\n",
    "\n",
    "# Example extraction\n",
    "incident_example = incidents_df.iloc[1]\n",
    "affected_deals = extract_info_from_comment(incident_example['processed_comment'], deals_df)\n",
    "print(affected_deals)\n"
   ]
  },
  {
   "cell_type": "markdown",
   "metadata": {},
   "source": [
    "4. Association of Incidents with Deals and Flagging Impacted Deals"
   ]
  },
  {
   "cell_type": "code",
   "execution_count": null,
   "metadata": {},
   "outputs": [
    {
     "ename": "",
     "evalue": "",
     "output_type": "error",
     "traceback": [
      "\u001b[1;31mÉchec du démarrage du Kernel. \n",
      "\u001b[1;31mTraceback (most recent call last):\n",
      "\u001b[1;31m  File \"c:\\Users\\decroux paul\\anaconda3\\lib\\runpy.py\", line 197, in _run_module_as_main\n",
      "\u001b[1;31m    return _run_code(code, main_globals, None,\n",
      "\u001b[1;31m  File \"c:\\Users\\decroux paul\\anaconda3\\lib\\runpy.py\", line 87, in _run_code\n",
      "\u001b[1;31m    exec(code, run_globals)\n",
      "\u001b[1;31m  File \"c:\\Users\\decroux paul\\anaconda3\\lib\\site-packages\\ipykernel_launcher.py\", line 15, in <module>\n",
      "\u001b[1;31m    from ipykernel import kernelapp as app\n",
      "\u001b[1;31m  File \"c:\\Users\\decroux paul\\anaconda3\\lib\\site-packages\\ipykernel\\kernelapp.py\", line 51, in <module>\n",
      "\u001b[1;31m    from .ipkernel import IPythonKernel\n",
      "\u001b[1;31m  File \"c:\\Users\\decroux paul\\anaconda3\\lib\\site-packages\\ipykernel\\ipkernel.py\", line 19, in <module>\n",
      "\u001b[1;31m    from .debugger import Debugger, _is_debugpy_available\n",
      "\u001b[1;31m  File \"c:\\Users\\decroux paul\\anaconda3\\lib\\site-packages\\ipykernel\\debugger.py\", line 22, in <module>\n",
      "\u001b[1;31m    from debugpy.server import api  # noqa\n",
      "\u001b[1;31m  File \"c:\\Users\\decroux paul\\anaconda3\\lib\\site-packages\\debugpy\\server\\__init__.py\", line 9, in <module>\n",
      "\u001b[1;31m    import debugpy._vendored.force_pydevd  # noqa\n",
      "\u001b[1;31m  File \"c:\\Users\\decroux paul\\anaconda3\\lib\\site-packages\\debugpy\\_vendored\\force_pydevd.py\", line 37, in <module>\n",
      "\u001b[1;31m    pydevd_constants = import_module('_pydevd_bundle.pydevd_constants')\n",
      "\u001b[1;31m  File \"c:\\Users\\decroux paul\\anaconda3\\lib\\importlib\\__init__.py\", line 127, in import_module\n",
      "\u001b[1;31m    return _bootstrap._gcd_import(name[level:], package, level)\n",
      "\u001b[1;31m  File \"c:\\Users\\decroux paul\\anaconda3\\lib\\site-packages\\debugpy\\_vendored\\pydevd\\_pydevd_bundle\\pydevd_constants.py\", line 365, in <module>\n",
      "\u001b[1;31m    from _pydev_imps._pydev_saved_modules import thread, threading\n",
      "\u001b[1;31m  File \"c:\\Users\\decroux paul\\anaconda3\\lib\\site-packages\\debugpy\\_vendored\\pydevd\\_pydev_imps\\_pydev_saved_modules.py\", line 93, in <module>\n",
      "\u001b[1;31m    import code as _code;    verify_shadowed.check(_code, ['compile_command', 'InteractiveInterpreter'])\n",
      "\u001b[1;31m  File \"c:\\Users\\decroux paul\\anaconda3\\lib\\site-packages\\debugpy\\_vendored\\pydevd\\_pydev_imps\\_pydev_saved_modules.py\", line 77, in check\n",
      "\u001b[1;31m    raise DebuggerInitializationError(msg)\n",
      "\u001b[1;31m_pydev_imps._pydev_saved_modules.DebuggerInitializationError: It was not possible to initialize the debugger due to a module name conflict.\n",
      "\u001b[1;31m\n",
      "\u001b[1;31mi.e.: the module \"code\" could not be imported because it is shadowed by:\n",
      "\u001b[1;31mc:\\Users\\decroux paul\\Documents\\info\\code\\code.py\n",
      "\u001b[1;31mPlease rename this file/folder so that the original module from the standard library can be imported. \n",
      "\u001b[1;31mPour plus d’informations, consultez Jupyter <a href='command:jupyter.viewOutput'>log</a>."
     ]
    }
   ],
   "source": [
    "def flag_deals(deals_df, incidents_df):\n",
    "    deals_df['flag'] = 0\n",
    "    \n",
    "    for _, incident in incidents_df.iterrows():\n",
    "        affected_deals = extract_info_from_comment(incident['processed_comment'], deals_df)\n",
    "        deals_df.loc[affected_deals, 'flag'] = 1\n",
    "    \n",
    "    return deals_df\n",
    "\n",
    "flagged_deals_df = flag_deals(deals_df, incidents_df)\n",
    "print(flagged_deals_df)\n"
   ]
  }
 ],
 "metadata": {
  "kernelspec": {
   "display_name": "base",
   "language": "python",
   "name": "python3"
  },
  "language_info": {
   "name": "python",
   "version": "3.9.13"
  }
 },
 "nbformat": 4,
 "nbformat_minor": 2
}

{
 "cells": [
  {
   "cell_type": "code",
   "execution_count": null,
   "metadata": {},
   "outputs": [
    {
     "ename": "",
     "evalue": "",
     "output_type": "error",
     "traceback": [
      "\u001b[1;31mÉchec du démarrage du Kernel. \n",
      "\u001b[1;31mNameError: name 'n_data' is not defined. \n",
      "\u001b[1;31mPour plus d’informations, consultez Jupyter <a href='command:jupyter.viewOutput'>log</a>."
     ]
    }
   ],
   "source": [
    "import pandas as pd\n",
    "import numpy as np\n",
    "import random\n",
    "import string\n",
    "\n",
    "# Fonction pour générer un mot aléatoire\n",
    "def generate_random_word(length=10):\n",
    "    letters = string.ascii_uppercase\n",
    "    return ''.join(random.choice(letters) for i in range(length))\n",
    "\n",
    "# Générer environ 4000 mots différents pour 'Underlying Name'\n",
    "unique_words = [generate_random_word() for _ in range(4000)]\n",
    "\n",
    "# Assurer que la taille du DataFrame est plus grande en répétant les mots\n",
    "underlying_names = np.random.choice(unique_words, size=10000, replace=True)\n",
    "\n",
    "# Générer des valeurs aléatoires pour 'Portfolio' et 'ProductTypeGroup'\n",
    "portfolios = np.random.choice(['Portfolio1', 'Portfolio2', 'Portfolio3', 'Portfolio4'], size=10000, replace=True)\n",
    "product_types = np.random.choice(['Type1', 'Type2', 'Type3', 'Type4'], size=10000, replace=True)\n",
    "\n",
    "# Créer le DataFrame\n",
    "df = pd.DataFrame({\n",
    "    'Underlying Name': underlying_names,\n",
    "    'Portfolio': portfolios,\n",
    "    'ProductTypeGroup': product_types\n",
    "})\n",
    "\n",
    "# Afficher un échantillon du DataFrame\n",
    "print(df.head())\n",
    "print(f\"Nombre de mots uniques dans 'Underlying Name' : {df['Underlying Name'].nunique()}\")\n"
   ]
  }
 ],
 "metadata": {
  "kernelspec": {
   "display_name": "base",
   "language": "python",
   "name": "python3"
  },
  "language_info": {
   "name": "python",
   "version": "3.9.13"
  }
 },
 "nbformat": 4,
 "nbformat_minor": 2
}
